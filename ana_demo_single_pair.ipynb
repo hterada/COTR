{
 "cells": [
  {
   "cell_type": "code",
   "execution_count": null,
   "metadata": {},
   "outputs": [],
   "source": [
    "import pandas as pd\n",
    "\n",
    "df0 = pd.read_csv('prof_demo_single_pair.csv', sep=',')\n",
    "df0 = df0.fillna('0')\n",
    "df = df0.copy()\n",
    "df"
   ]
  },
  {
   "cell_type": "code",
   "execution_count": null,
   "metadata": {},
   "outputs": [],
   "source": [
    "import re\n",
    "\n",
    "def df_col_tonum(df, col_name:str, unit_str:str, ratio:float ):\n",
    "    df_tmp = df.copy()\n",
    "    match = df_tmp[col_name].str.match(f'[0-9\\.]+{unit_str}', na=False)\n",
    "    l_val = []\n",
    "    for val in df_tmp[match][col_name]:\n",
    "        mm = re.match(f'([0-9\\.]+)({unit_str})', val)\n",
    "        # print(val, mm.group(1))\n",
    "        # ms to us\n",
    "        if mm is not None:\n",
    "            l_val.append( float(mm.group(1))*ratio )\n",
    "        else:\n",
    "            print('no mm')\n",
    "            l_val.append(0.0)\n",
    "    df_tmp.loc[match, col_name] = l_val\n",
    "    return df_tmp\n",
    "\n",
    "#\n",
    "df = df0.copy()\n",
    "for col in df.columns:\n",
    "    print(col)\n",
    "    df = df_col_tonum(df, col, 'ms', 1e3 )\n",
    "    df = df_col_tonum(df, col, 'us', 1.0 )\n",
    "    df = df_col_tonum(df, col, 'Gb', 1e3 )\n",
    "    df = df_col_tonum(df, col, 'b', 1.0 )\n",
    "    df = df_col_tonum(df, col, '', 1.0 )\n",
    "\n",
    "for mod, cuda_total, noc in df[['Module', 'CUDAtotal', 'NumberofCalls']].values:\n",
    "    print(type(cuda_total))\n",
    "    mod = mod.replace('├', '+')\n",
    "    mod = mod.replace('│', '|')\n",
    "    mod = mod.replace('─', '-')\n",
    "    mod = mod.replace('└', '+')\n",
    "    print(f\"{mod:30}:{cuda_total:10.1f}:{noc:10.1f}\")"
   ]
  }
 ],
 "metadata": {
  "kernelspec": {
   "display_name": ".venv",
   "language": "python",
   "name": "python3"
  },
  "language_info": {
   "codemirror_mode": {
    "name": "ipython",
    "version": 3
   },
   "file_extension": ".py",
   "mimetype": "text/x-python",
   "name": "python",
   "nbconvert_exporter": "python",
   "pygments_lexer": "ipython3",
   "version": "3.7.10"
  },
  "orig_nbformat": 4,
  "vscode": {
   "interpreter": {
    "hash": "9f22aaf823dbfb9ed3c835eca89c255b79237e9e4fb8d839ae83dd9f980ffff6"
   }
  }
 },
 "nbformat": 4,
 "nbformat_minor": 2
}
